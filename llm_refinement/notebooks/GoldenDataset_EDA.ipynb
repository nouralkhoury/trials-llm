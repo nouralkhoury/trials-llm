{
 "cells": [
  {
   "cell_type": "markdown",
   "id": "b4eb534d-a916-4cb3-bb0b-ad51b6a860a8",
   "metadata": {},
   "source": [
    "# Dataset Visualization"
   ]
  },
  {
   "cell_type": "markdown",
   "id": "13239bc4-5df3-4958-a1ec-15fc86f02ef0",
   "metadata": {},
   "source": [
    "* Token distribution\n",
    "* Embedding clustering"
   ]
  },
  {
   "cell_type": "code",
   "execution_count": 2,
   "id": "40af3944-c160-4b13-bfb6-4d846711fa00",
   "metadata": {},
   "outputs": [],
   "source": [
    "import os\n",
    "import json\n",
    "import tiktoken\n",
    "import numpy as np\n",
    "import matplotlib.pyplot as plt"
   ]
  },
  {
   "cell_type": "code",
   "execution_count": 3,
   "id": "5cef9672-0c58-4eea-aa8c-8c4e02ba8ee4",
   "metadata": {},
   "outputs": [],
   "source": [
    "os.chdir(\"../\")\n",
    "from modules.chromadb_handler import ChromaDBHandler\n",
    "from utils.jsons import load_json"
   ]
  },
  {
   "cell_type": "markdown",
   "id": "b5e6a8fe-f255-4f0c-85ce-4980388e6581",
   "metadata": {},
   "source": [
    "## 1. Load Encoding"
   ]
  },
  {
   "cell_type": "code",
   "execution_count": 4,
   "id": "83a2ad09-e795-41b4-a9db-64167156a1be",
   "metadata": {},
   "outputs": [],
   "source": [
    "encoding = tiktoken.get_encoding(\"cl100k_base\")"
   ]
  },
  {
   "cell_type": "markdown",
   "id": "4a1e896b-3ce8-42be-b3d1-8a65fb539565",
   "metadata": {},
   "source": [
    "Use tiktoken.encoding_for_model() to automatically load the correct encoding for a given model name."
   ]
  },
  {
   "cell_type": "code",
   "execution_count": 5,
   "id": "0f4c0bf9-4270-4d73-b032-2d4fe5340b04",
   "metadata": {},
   "outputs": [],
   "source": [
    "encoding = tiktoken.encoding_for_model(\"gpt-3.5-turbo\")"
   ]
  },
  {
   "cell_type": "markdown",
   "id": "b6df5206-bd17-401c-bf5f-e44bcbb53508",
   "metadata": {},
   "source": [
    "## 2. Turn text into tokens with encoding.encode()"
   ]
  },
  {
   "cell_type": "markdown",
   "id": "28325726-cc8f-49f2-81b2-fb6b7189e47a",
   "metadata": {},
   "source": [
    "The .encode() method converts a text string into a list of token integers."
   ]
  },
  {
   "cell_type": "code",
   "execution_count": 6,
   "id": "e01dfb19-a7d5-40ff-9671-2de04f08fad7",
   "metadata": {},
   "outputs": [
    {
     "data": {
      "text/plain": [
       "[83, 1609, 5963, 374, 2294, 0]"
      ]
     },
     "execution_count": 6,
     "metadata": {},
     "output_type": "execute_result"
    }
   ],
   "source": [
    "encoding.encode(\"tiktoken is great!\")"
   ]
  },
  {
   "cell_type": "markdown",
   "id": "8345bac2-e52f-4ce3-b5b7-e7ac3cda90c2",
   "metadata": {},
   "source": [
    "Count tokens by counting the length of the list returned by .encode()."
   ]
  },
  {
   "cell_type": "code",
   "execution_count": 7,
   "id": "3d074148-b8fa-4159-8052-8a68a55bad51",
   "metadata": {},
   "outputs": [],
   "source": [
    "def num_tokens_from_string(string: str, encoding_name: str) -> int:\n",
    "    \"\"\"Returns the number of tokens in a text string.\"\"\"\n",
    "    encoding = tiktoken.get_encoding(encoding_name)\n",
    "    num_tokens = len(encoding.encode(string))\n",
    "    return num_tokens"
   ]
  },
  {
   "cell_type": "code",
   "execution_count": 8,
   "id": "450c7441-ace2-482a-933a-0e46a6af7dc6",
   "metadata": {},
   "outputs": [
    {
     "data": {
      "text/plain": [
       "6"
      ]
     },
     "execution_count": 8,
     "metadata": {},
     "output_type": "execute_result"
    }
   ],
   "source": [
    "num_tokens_from_string(\"tiktoken is great!\", \"cl100k_base\")"
   ]
  },
  {
   "cell_type": "markdown",
   "id": "b9ddd639-a871-4f36-b86a-a9dd44672df2",
   "metadata": {},
   "source": [
    "## 3. Loading Golden Dataset"
   ]
  },
  {
   "cell_type": "code",
   "execution_count": 9,
   "id": "d9dfbee1-8075-428a-ba3f-2151deff8e35",
   "metadata": {},
   "outputs": [
    {
     "name": "stderr",
     "output_type": "stream",
     "text": [
      "No embedding_function provided, using default embedding function: DefaultEmbeddingFunction https://huggingface.co/sentence-transformers/all-MiniLM-L6-v2\n"
     ]
    },
    {
     "data": {
      "text/plain": [
       "16508"
      ]
     },
     "execution_count": 9,
     "metadata": {},
     "output_type": "execute_result"
    }
   ],
   "source": [
    "trials = ChromaDBHandler(\"data/collections/\", 'ctrials').collection\n",
    "trials.count()"
   ]
  },
  {
   "cell_type": "code",
   "execution_count": 10,
   "id": "c9551794-9617-4447-82ab-2caef3034add",
   "metadata": {
    "scrolled": true
   },
   "outputs": [],
   "source": [
    "dataset = load_json(\"data/raw/random_t_annotation_500_42.json\")"
   ]
  },
  {
   "cell_type": "code",
   "execution_count": 11,
   "id": "b503c418-a933-4c74-99de-40c967ba5a79",
   "metadata": {},
   "outputs": [
    {
     "data": {
      "text/plain": [
       "166"
      ]
     },
     "execution_count": 11,
     "metadata": {},
     "output_type": "execute_result"
    }
   ],
   "source": [
    "# Selecting the ids only\n",
    "dataset_ids = list(dataset.keys())\n",
    "len(dataset_ids)"
   ]
  },
  {
   "cell_type": "code",
   "execution_count": 12,
   "id": "39857ad3-40d3-4ad2-9822-4bdf34f10af6",
   "metadata": {},
   "outputs": [],
   "source": [
    "# Get the documents for the dataset ids\n",
    "dataset_data = trials.get(ids=dataset_ids, include = ['documents', 'embeddings'])\n",
    "dataset_docs = dataset_data['documents']"
   ]
  },
  {
   "cell_type": "code",
   "execution_count": 13,
   "id": "27c2b3c7-0fde-4837-89a0-92b98872418e",
   "metadata": {},
   "outputs": [
    {
     "data": {
      "text/plain": [
       "'This is an open-label, multicenter, dose-escalation and parallel-group expansion Phase II\\n clinical trial to evaluate the efficacy, safety and tolerability of KN026 in combination with\\n palbociclib and fulvestrant in women or male with HER2-positive metastatic breast cancer .The\\n subjects will receive 20 mg/kg IV Q2W+ palbociclib 100/125 mg/day orally+/-Fulvestrant 500 mg\\n IM until progressive disease, unacceptable toxicity or death.\\n ;\\n ;\\n Inclusion Criteria:\\n - Male or female subject >= 18 years;\\n - Histologically or cytologically confirmed, metastatic or locally advanced unresectable\\n HER2-positive;\\n - Adequate organ function assessed within 7 days prior to first trial treatment\\n - ECOG score 0 or 1;\\n - Left ventricular ejection fraction (LVEF) ≥ 50% at baseline;\\n - Life expectancy >3 months\\n Exclusion Criteria:\\n - Untreated active CNS metastasis or leptomeningeal metastasis;\\n - Uncontrolled tumor-related pain;\\n - Has received other anti-tumor treatment or an investigational drug within 28 days or\\n within 5 times of half-life (whichever is shorter, and no less than 2 weeks) prior to\\n the first trial treatment;\\n - Major surgery for any reason within 28 days;\\n - Curative radiation within 3 months of the first dose of trial treatment;\\n - History of uncontrolled intercurrent illness;\\n - Other medical conditions that at the discretion of investigator interfere with the\\n requirements of the trial in terms of safety or efficacy evaluation, or treatment\\n compliance'"
      ]
     },
     "execution_count": 13,
     "metadata": {},
     "output_type": "execute_result"
    }
   ],
   "source": [
    "dataset_docs[0]"
   ]
  },
  {
   "cell_type": "markdown",
   "id": "84b1370f-4856-4df5-a086-2d435b1785d4",
   "metadata": {},
   "source": [
    "## 4. Counting tokens for our Golden dataset"
   ]
  },
  {
   "cell_type": "code",
   "execution_count": 14,
   "id": "bf2822b5-1289-4b92-9db4-40c2fb9e11a9",
   "metadata": {},
   "outputs": [],
   "source": [
    "tokens = [num_tokens_from_string(doc, \"cl100k_base\") for doc in dataset_docs]"
   ]
  },
  {
   "cell_type": "code",
   "execution_count": 15,
   "id": "09f86847-92e1-41eb-bee4-40021184425a",
   "metadata": {},
   "outputs": [
    {
     "data": {
      "text/plain": [
       "166"
      ]
     },
     "execution_count": 15,
     "metadata": {},
     "output_type": "execute_result"
    }
   ],
   "source": [
    "len(tokens)"
   ]
  },
  {
   "cell_type": "markdown",
   "id": "5ecc464e-b16e-4a98-baab-b3d8a7e85735",
   "metadata": {},
   "source": [
    "## 5. Visualize token distribution"
   ]
  },
  {
   "cell_type": "code",
   "execution_count": 16,
   "id": "0559f163-c94b-4192-b735-bd620342d31e",
   "metadata": {},
   "outputs": [],
   "source": [
    "if not os.path.exists(\"images\"):\n",
    "    os.mkdir(\"images\")"
   ]
  },
  {
   "cell_type": "code",
   "execution_count": 17,
   "id": "636e40f6-6284-455f-a627-01f7aa08202c",
   "metadata": {},
   "outputs": [
    {
     "data": {
      "image/png": "[encoded data removed]",
      "text/plain": [
       "<Figure size 720x432 with 1 Axes>"
      ]
     },
     "metadata": {
      "needs_background": "light"
     },
     "output_type": "display_data"
    }
   ],
   "source": [
    "plt.style.use('ggplot')\n",
    "plt.figure(figsize=(10,6)) # Make it 14x7 inch\n",
    "plt.hist(tokens, bins=90, linewidth=0.5,  ec=\"black\", color = \"steelblue\")\n",
    "plt.title('Histogram of Token Count') \n",
    "plt.xlabel('Token count') \n",
    "plt.ylabel('Frequency') \n",
    "plt.savefig('images/token_count_hist.png')\n",
    "plt.show()"
   ]
  },
  {
   "cell_type": "code",
   "execution_count": 18,
   "id": "f7c03f1e-23ca-4e57-a368-4dee68be6d77",
   "metadata": {},
   "outputs": [
    {
     "data": {
      "text/plain": [
       "36"
      ]
     },
     "execution_count": 18,
     "metadata": {},
     "output_type": "execute_result"
    }
   ],
   "source": [
    "min(tokens)"
   ]
  },
  {
   "cell_type": "code",
   "execution_count": 19,
   "id": "d5515a23-b3db-4c65-8582-ae2e3fa9f9ea",
   "metadata": {},
   "outputs": [],
   "source": [
    "short_docs = [i for i in dataset_docs if num_tokens_from_string(i, \"cl100k_base\") < 100]"
   ]
  },
  {
   "cell_type": "code",
   "execution_count": 20,
   "id": "10290060-0fa2-4c0a-a0c7-79187c2b34f1",
   "metadata": {},
   "outputs": [
    {
     "data": {
      "text/plain": [
       "6"
      ]
     },
     "execution_count": 20,
     "metadata": {},
     "output_type": "execute_result"
    }
   ],
   "source": [
    "len(short_docs)"
   ]
  },
  {
   "cell_type": "markdown",
   "id": "36949106-6c3e-42af-b3c1-f367552665b7",
   "metadata": {},
   "source": [
    "## Visualize Embeddings"
   ]
  },
  {
   "cell_type": "code",
   "execution_count": 21,
   "id": "de681d1b-e2c9-4eb1-9a3c-92af8374716a",
   "metadata": {
    "scrolled": true
   },
   "outputs": [],
   "source": [
    "from umap import UMAP\n",
    "import plotly.express as px\n",
    "import plotly.io as pio\n",
    "pio.renderers.default = 'notebook'"
   ]
  },
  {
   "cell_type": "code",
   "execution_count": 22,
   "id": "5bfad6a3-cedb-41aa-9ce3-f4095d679c09",
   "metadata": {},
   "outputs": [],
   "source": [
    "# Load embeddings\n",
    "dataset_embs = np.array(dataset_data['embeddings'])"
   ]
  },
  {
   "cell_type": "code",
   "execution_count": 23,
   "id": "dd8490ec-f86d-4e4d-885f-ee86cdad4675",
   "metadata": {},
   "outputs": [],
   "source": [
    "# Reduce dimensionality of embeddings\n",
    "projections = UMAP(n_neighbors=10, n_components=2, min_dist=0.1, metric='cosine').fit_transform(dataset_embs)"
   ]
  },
  {
   "cell_type": "code",
   "execution_count": 24,
   "id": "42f6c349-152e-4ae0-92d9-9d2309776485",
   "metadata": {},
   "outputs": [],
   "source": [
    "fig = px.scatter(projections, x=0, y=1)"
   ]
  },
  {
   "cell_type": "code",
   "execution_count": 25,
   "id": "86d6bd5c-d688-494a-82ed-222189c3e53d",
   "metadata": {},
   "outputs": [],
   "source": [
    "fig.write_image(\"images/umap_10neig_2cmp.jpeg\")"
   ]
  },
  {
   "cell_type": "code",
   "execution_count": 26,
   "id": "6eddccbc-a579-43cd-b537-88427f6ef0ce",
   "metadata": {},
   "outputs": [
    {
     "data": {
      "text/plain": [
       "'Despite improvements in outcomes for patients with localized Ewing sarcoma, patients with\\n relapsed metastatic Ewing sarcoma continue to have poor outcomes with current chemotherapy\\n options. A large body of preclinical data supports a role for IGF-1R inhibition in the\\n treatment of Ewing sarcoma.\\n More recently, clinical trials of IGF-1R monoclonal antibodies have demonstrated single-\\n agent activity in patients with relapsed Ewing sarcoma. Ganitumab (AMG 479) is a fully human\\n monoclonal antibody directed against IGF-1R. We are proposing this single-agent expanded\\n access IND to provide our patient the opportunity to benefit from this treatment after having\\n developed progressive disease after multiple lines of prior therapy.\\n ;\\n ;\\n Inclusion Criteria:\\n Diagnosis: Confirmed translocation-positive Ewing sarcoma\\n Organ Function Requirements:\\n Serum creatinine < 1.4 Adequate liver function\\n - Total bilitubin <1.5x upper limit of normal for age\\n - SGPT (ALT) < 5x upper limit of normal for age Adequate cardiac function > 50% by\\n echocardiogram Bone Marrow\\n - Absolute neutrophil count > 750\\n - Platelet count > 75\\n Exclusion Criteria:\\n - Female patients of childbearing potential are not eligible unless a negative pregnancy\\n test result has been obtained. Lactating females are not eligible unless they have\\n agreed not to breastfeed their infants for the duration of protocol therapy. Sexually\\n active patients of reproductive potential are not eligible unless they have agreed to\\n use an effective contraceptive method for the duration of protocol therapy.\\n - Patients with known pre-existing diabetes mellitus will be excluded from study.'"
      ]
     },
     "execution_count": 26,
     "metadata": {},
     "output_type": "execute_result"
    }
   ],
   "source": [
    "dataset_docs[5]"
   ]
  },
  {
   "cell_type": "code",
   "execution_count": null,
   "id": "06286175-30a8-4e0e-8aa4-d1a0bb0f5c83",
   "metadata": {},
   "outputs": [],
   "source": []
  }
 ],
 "metadata": {
  "kernelspec": {
   "display_name": "Python 3",
   "language": "python",
   "name": "python3"
  },
  "language_info": {
   "codemirror_mode": {
    "name": "ipython",
    "version": 3
   },
   "file_extension": ".py",
   "mimetype": "text/x-python",
   "name": "python",
   "nbconvert_exporter": "python",
   "pygments_lexer": "ipython3",
   "version": "3.11.6"
  }
 },
 "nbformat": 4,
 "nbformat_minor": 5
}
