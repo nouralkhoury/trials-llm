{
 "cells": [
  {
   "cell_type": "markdown",
   "id": "b4eb534d-a916-4cb3-bb0b-ad51b6a860a8",
   "metadata": {},
   "source": [
    "# Dataset Visualization"
   ]
  },
  {
   "cell_type": "markdown",
   "id": "13239bc4-5df3-4958-a1ec-15fc86f02ef0",
   "metadata": {},
   "source": [
    "* Token distribution\n",
    "* Embedding clustering"
   ]
  },
  {
   "cell_type": "code",
   "execution_count": 1,
   "id": "40af3944-c160-4b13-bfb6-4d846711fa00",
   "metadata": {},
   "outputs": [],
   "source": [
    "import os\n",
    "import json\n",
    "import tiktoken\n",
    "import numpy as np\n",
    "import matplotlib.pyplot as plt"
   ]
  },
  {
   "cell_type": "code",
   "execution_count": 7,
   "id": "5cef9672-0c58-4eea-aa8c-8c4e02ba8ee4",
   "metadata": {},
   "outputs": [],
   "source": [
    "os.chdir(\"../\")\n",
    "from modules.chromadb_handler import ChromaDBHandler\n",
    "from utils.token_count import num_tokens_from_string\n",
    "from utils.jsons import load_json"
   ]
  },
  {
   "cell_type": "markdown",
   "id": "b5e6a8fe-f255-4f0c-85ce-4980388e6581",
   "metadata": {},
   "source": [
    "## 1. Load Encoding"
   ]
  },
  {
   "cell_type": "code",
   "execution_count": 3,
   "id": "83a2ad09-e795-41b4-a9db-64167156a1be",
   "metadata": {},
   "outputs": [],
   "source": [
    "encoding = tiktoken.get_encoding(\"cl100k_base\")"
   ]
  },
  {
   "cell_type": "markdown",
   "id": "4a1e896b-3ce8-42be-b3d1-8a65fb539565",
   "metadata": {},
   "source": [
    "Use tiktoken.encoding_for_model() to automatically load the correct encoding for a given model name."
   ]
  },
  {
   "cell_type": "code",
   "execution_count": 4,
   "id": "0f4c0bf9-4270-4d73-b032-2d4fe5340b04",
   "metadata": {},
   "outputs": [],
   "source": [
    "encoding = tiktoken.encoding_for_model(\"gpt-3.5-turbo\")"
   ]
  },
  {
   "cell_type": "markdown",
   "id": "b6df5206-bd17-401c-bf5f-e44bcbb53508",
   "metadata": {},
   "source": [
    "## 2. Turn text into tokens with encoding.encode()"
   ]
  },
  {
   "cell_type": "markdown",
   "id": "28325726-cc8f-49f2-81b2-fb6b7189e47a",
   "metadata": {},
   "source": [
    "The .encode() method converts a text string into a list of token integers."
   ]
  },
  {
   "cell_type": "code",
   "execution_count": 5,
   "id": "e01dfb19-a7d5-40ff-9671-2de04f08fad7",
   "metadata": {},
   "outputs": [
    {
     "data": {
      "text/plain": [
       "[83, 1609, 5963, 374, 2294, 0]"
      ]
     },
     "execution_count": 5,
     "metadata": {},
     "output_type": "execute_result"
    }
   ],
   "source": [
    "encoding.encode(\"tiktoken is great!\")"
   ]
  },
  {
   "cell_type": "markdown",
   "id": "8345bac2-e52f-4ce3-b5b7-e7ac3cda90c2",
   "metadata": {},
   "source": [
    "Count tokens by counting the length of the list returned by .encode()."
   ]
  },
  {
   "cell_type": "code",
   "execution_count": 6,
   "id": "450c7441-ace2-482a-933a-0e46a6af7dc6",
   "metadata": {},
   "outputs": [
    {
     "data": {
      "text/plain": [
       "6"
      ]
     },
     "execution_count": 6,
     "metadata": {},
     "output_type": "execute_result"
    }
   ],
   "source": [
    "num_tokens_from_string(\"tiktoken is great!\", \"cl100k_base\")"
   ]
  },
  {
   "cell_type": "markdown",
   "id": "b9ddd639-a871-4f36-b86a-a9dd44672df2",
   "metadata": {},
   "source": [
    "## 3. Loading Golden Dataset"
   ]
  },
  {
   "cell_type": "code",
   "execution_count": 8,
   "id": "d9dfbee1-8075-428a-ba3f-2151deff8e35",
   "metadata": {},
   "outputs": [
    {
     "name": "stderr",
     "output_type": "stream",
     "text": [
      "No embedding_function provided, using default embedding function: DefaultEmbeddingFunction https://huggingface.co/sentence-transformers/all-MiniLM-L6-v2\n"
     ]
    },
    {
     "data": {
      "text/plain": [
       "16508"
      ]
     },
     "execution_count": 8,
     "metadata": {},
     "output_type": "execute_result"
    }
   ],
   "source": [
    "trials = ChromaDBHandler(\"data/collections/\", 'ctrials').collection\n",
    "trials.count()"
   ]
  },
  {
   "cell_type": "code",
   "execution_count": 9,
   "id": "c9551794-9617-4447-82ab-2caef3034add",
   "metadata": {
    "scrolled": true
   },
   "outputs": [],
   "source": [
    "dataset = load_json(\"data/interim/random_t_annotation_500_42.json\")"
   ]
  },
  {
   "cell_type": "code",
   "execution_count": 10,
   "id": "b503c418-a933-4c74-99de-40c967ba5a79",
   "metadata": {},
   "outputs": [
    {
     "data": {
      "text/plain": [
       "166"
      ]
     },
     "execution_count": 10,
     "metadata": {},
     "output_type": "execute_result"
    }
   ],
   "source": [
    "# Selecting the ids only\n",
    "dataset_ids = list(dataset.keys())\n",
    "len(dataset_ids)"
   ]
  },
  {
   "cell_type": "code",
   "execution_count": 11,
   "id": "39857ad3-40d3-4ad2-9822-4bdf34f10af6",
   "metadata": {},
   "outputs": [],
   "source": [
    "# Get the documents for the dataset ids\n",
    "dataset_data = trials.get(ids=dataset_ids, include = ['documents', 'embeddings'])\n",
    "dataset_docs = dataset_data['documents']"
   ]
  },
  {
   "cell_type": "code",
   "execution_count": 12,
   "id": "27c2b3c7-0fde-4837-89a0-92b98872418e",
   "metadata": {},
   "outputs": [
    {
     "data": {
      "text/plain": [
       "'This is an open-label, multicenter, dose-escalation and parallel-group expansion Phase II\\n clinical trial to evaluate the efficacy, safety and tolerability of KN026 in combination with\\n palbociclib and fulvestrant in women or male with HER2-positive metastatic breast cancer .The\\n subjects will receive 20 mg/kg IV Q2W+ palbociclib 100/125 mg/day orally+/-Fulvestrant 500 mg\\n IM until progressive disease, unacceptable toxicity or death.\\n ;\\n ;\\n Inclusion Criteria:\\n - Male or female subject >= 18 years;\\n - Histologically or cytologically confirmed, metastatic or locally advanced unresectable\\n HER2-positive;\\n - Adequate organ function assessed within 7 days prior to first trial treatment\\n - ECOG score 0 or 1;\\n - Left ventricular ejection fraction (LVEF) ≥ 50% at baseline;\\n - Life expectancy >3 months\\n Exclusion Criteria:\\n - Untreated active CNS metastasis or leptomeningeal metastasis;\\n - Uncontrolled tumor-related pain;\\n - Has received other anti-tumor treatment or an investigational drug within 28 days or\\n within 5 times of half-life (whichever is shorter, and no less than 2 weeks) prior to\\n the first trial treatment;\\n - Major surgery for any reason within 28 days;\\n - Curative radiation within 3 months of the first dose of trial treatment;\\n - History of uncontrolled intercurrent illness;\\n - Other medical conditions that at the discretion of investigator interfere with the\\n requirements of the trial in terms of safety or efficacy evaluation, or treatment\\n compliance'"
      ]
     },
     "execution_count": 12,
     "metadata": {},
     "output_type": "execute_result"
    }
   ],
   "source": [
    "dataset_docs[0]"
   ]
  },
  {
   "cell_type": "markdown",
   "id": "84b1370f-4856-4df5-a086-2d435b1785d4",
   "metadata": {},
   "source": [
    "## 4. Counting tokens for our Golden dataset"
   ]
  },
  {
   "cell_type": "code",
   "execution_count": 13,
   "id": "bf2822b5-1289-4b92-9db4-40c2fb9e11a9",
   "metadata": {},
   "outputs": [],
   "source": [
    "tokens = [num_tokens_from_string(doc, \"cl100k_base\") for doc in dataset_docs]"
   ]
  },
  {
   "cell_type": "code",
   "execution_count": 14,
   "id": "09f86847-92e1-41eb-bee4-40021184425a",
   "metadata": {},
   "outputs": [
    {
     "data": {
      "text/plain": [
       "166"
      ]
     },
     "execution_count": 14,
     "metadata": {},
     "output_type": "execute_result"
    }
   ],
   "source": [
    "len(tokens)"
   ]
  },
  {
   "cell_type": "code",
   "execution_count": 20,
   "id": "44f9af2d",
   "metadata": {},
   "outputs": [
    {
     "name": "stdout",
     "output_type": "stream",
     "text": [
      "The document with the longest token length is at index: 32\n"
     ]
    }
   ],
   "source": [
    "import numpy as np\n",
    "\n",
    "# Your code for generating the tokens list\n",
    "tokens = [num_tokens_from_string(doc, \"cl100k_base\") for doc in dataset_docs]\n",
    "\n",
    "# Find the index of the document with the longest token length\n",
    "longest_token_index = np.argmax(tokens)\n",
    "\n",
    "print(f\"The document with the longest token length is at index: {longest_token_index}\")\n"
   ]
  },
  {
   "cell_type": "code",
   "execution_count": 26,
   "id": "d3170670",
   "metadata": {},
   "outputs": [
    {
     "data": {
      "text/plain": [
       "'NCT04017130'"
      ]
     },
     "execution_count": 26,
     "metadata": {},
     "output_type": "execute_result"
    }
   ],
   "source": [
    "dataset_data['ids'][32]"
   ]
  },
  {
   "cell_type": "code",
   "execution_count": null,
   "id": "c58e0539",
   "metadata": {},
   "outputs": [],
   "source": []
  },
  {
   "cell_type": "markdown",
   "id": "5ecc464e-b16e-4a98-baab-b3d8a7e85735",
   "metadata": {},
   "source": [
    "## 5. Visualize token distribution"
   ]
  },
  {
   "cell_type": "code",
   "execution_count": 15,
   "id": "0559f163-c94b-4192-b735-bd620342d31e",
   "metadata": {},
   "outputs": [],
   "source": [
    "if not os.path.exists(\"images\"):\n",
    "    os.mkdir(\"images\")"
   ]
  },
  {
   "cell_type": "code",
   "execution_count": 16,
   "id": "636e40f6-6284-455f-a627-01f7aa08202c",
   "metadata": {},
   "outputs": [
    {
     "data": {
      "image/png": "[encoded data removed]",
      "text/plain": [
       "<Figure size 720x432 with 1 Axes>"
      ]
     },
     "metadata": {
      "needs_background": "light"
     },
     "output_type": "display_data"
    }
   ],
   "source": [
    "plt.style.use('ggplot')\n",
    "plt.figure(figsize=(10,6)) # Make it 14x7 inch\n",
    "#plt.hist(tokens, bins=90, ,  ec=\"black\", color = \"steelblue\")\n",
    "n, bins, patches = plt.hist(tokens, bins=90,linewidth=0.5, ec=\"black\" ,color='steelblue')\n",
    "patches[89].set_fc('r') # the last is \n",
    "plt.title('Histogram of Token Count') \n",
    "plt.xlabel('Token count') \n",
    "plt.ylabel('Frequency') \n",
    "plt.savefig('images/token_count_hist_redbar.png')\n",
    "plt.show()"
   ]
  },
  {
   "cell_type": "code",
   "execution_count": 17,
   "id": "d5515a23-b3db-4c65-8582-ae2e3fa9f9ea",
   "metadata": {},
   "outputs": [],
   "source": [
    "short_docs = [i for i in dataset_docs if num_tokens_from_string(i, \"cl100k_base\") > 5000]"
   ]
  },
  {
   "cell_type": "code",
   "execution_count": null,
   "id": "f451a242",
   "metadata": {},
   "outputs": [],
   "source": []
  },
  {
   "cell_type": "code",
   "execution_count": 18,
   "id": "01b36daa",
   "metadata": {},
   "outputs": [
    {
     "data": {
      "text/plain": [
       "[\"This will be a Phase 1 Open-Label, dose escalation and expansion study of MT-0169 (an\\n Engineered toxin body (ETB) in patients with relapsed or refractory multiple myeloma or\\n non-Hodgkin lymphoma. MT-0169 is an investigational drug that recognizes and binds to the\\n CD38 receptor, which may be found on the surface of multiple myeloma and non-Hodgkin lymphoma\\n cancer cells. It delivers a dose of a modified toxin that kills these cells.\\n ;\\n ;\\n Inclusion Criteria Part 1 (RRMM patients only)\\n 1. Confirmed diagnosis of MM per revised IMWG diagnostic criteria\\n 2. Patients with RRMM who have failed treatment with, are intolerant to, or are not\\n candidates for available therapies that are known to confer clinical benefit\\n 3. Must meet all of the following criteria for prior therapy:\\n 1. Must be refractory to ≥1 proteasome inhibitor (PI), ≥1 immunomodulatory drug\\n (IMiD), and ≥1 steroid\\n 2. Must either have received ≥3 prior lines of therapy or ≥2 prior lines of therapy\\n if 1 line included a combination of PI and IMiD (prior treatment with anti-CD38\\n therapy is permitted).\\n 4. With measurable disease, defined as ≥1 of the following:\\n 1. Serum M-protein ≥500 mg/dL (≥5 g/L) on serum protein electrophoresis (SPEP).\\n 2. Urine M-protein ≥200 mg/24 h on urine protein electrophoresis (UPEP).\\n 3. Serum FLC assay result with an involved FLC level ≥10 mg/dL (≥100 mg/L) if serum\\n FLC ratio is abnormal.\\n 5. Patients with serum M-protein, urine M-protein, or involved immunoglobulin FLC not\\n meeting the measurable disease criteria above will be eligible if they have ≥1 of the\\n following:\\n 1. Bone marrow (BM) aspirate/biopsy with plasma cell percentage ≥30%\\n 2. PET imaging with ≥1 plasmacytoma lesion with a single diameter of ≥2cm.\\n 6. With Eastern Cooperative Oncology Group (ECOG) performance score of 0 or 1.\\n 7. With normal QT interval corrected by the Fridericia method (QTcF) on screening\\n electrocardiogram (ECG)[ QTcF of ≤450 millisecond (ms) in males or ≤470 ms in females]\\n 8. Must meet the following clinical laboratory criteria at entry:\\n 1. Total bilirubin ≤1.5*the upper limit of the normal range (ULN), except for\\n Gilbert's syndrome (direct bilirubin must be <2.0*ULN)\\n 2. Serum alanine aminotransferase (ALT), aspartate aminotransferase (AST) ≤2.5*ULN.\\n 3. Estimated glomerular filtration rate (eGFR) ≥30 (mL/min/1.73 square meter [m2]),\\n using the modification of diet in renal disease (MDRD) equation\\n 4. Absolute neutrophil count (ANC) ≥1000 per cubic millimeter (/mm3) (≥1.0*109 per\\n liter [/L]); ≥750/mm3 (≥0.75*109/L) may be acceptable for participants with >50%\\n of plasma cells in BM\\n 5. Platelet count ≥75,000/ mm3 (≥75*109/L); ≥50,000/ mm3 (≥50*109/L) may be\\n acceptable for participants with >50% of plasma cells in BM\\n 6. Hemoglobin ≥7.5 g/dL without transfusion within 7 days before the lab test.\\n 7. Serum albumin ≥2.5 g/dL.\\n 9. Female patients who:\\n 1. are postmenopausal for at least 1 year prior to screening OR\\n 2. are surgically sterile OR\\n 3. If they are of childbearing potential, agree to practice 1 highly effective\\n method of contraception and 1 additional effective barrier method at the same\\n time from study entry through 30 days after the last dose of study drug OR\\n 4. agree to practice true abstinence if in line with the preferred, usual lifestyle\\n [periodic abstinence (e.g., calendar, ovulation, symptothermal, postovulation\\n methods), withdrawal, spermicides only, and lactational amenorrhea are not\\n acceptable. Female and male condoms should not be used together]\\n 10. Male patients, even if surgically sterilized (postvasectomy) who:\\n 1. Agree to practice effective barrier contraception during the entire study and\\n through 90 days after last dose of study drug OR\\n 2. Agree to practice true abstinence if in line with the preferred, usual lifestyle\\n [periodic abstinence (e.g., calendar, ovulation, symptothermal, postovulation\\n methods), withdrawal, spermicides only, and lactational amenorrhea are not\\n acceptable. Female and male condoms should not be used together]\\n Inclusion criteria Part 2 (both RRMM and RRNHL patients)\\n 1. ECOG performance score of 0 or 1.\\n 2. Normal QTcF on screening ECG, defined as QTcF of ≤450 ms in males or ≤470 ms in\\n females\\n 3. Must meet the following clinical laboratory criteria at study entry:\\n 1. Total bilirubin ≤1.5*the ULN, except for Gilbert's syndrome (direct bilirubin\\n must be <2.0*ULN)\\n 2. Serum ALT and AST ≤2.5*ULN\\n 3. eGFR ≥30 mL/min/1.73 m2(MDRD equation)\\n 4. ANC ≥1000 mm3 (≥1.0*109 /L); a count of ≥750/mm3 (≥0.75*109/L) may be acceptable\\n for participant with >50% of plasma cells in BM\\n 5. Platelet count ≥75,000/ mm3 (≥75*109/L); a value of ≥50,000/ mm3(≥50*109/L) may\\n be acceptable for participants with >50% of plasma cells in BM\\n 6. Hemoglobin ≥7.5 g/dL without transfusion within 7 days before the lab test\\n 7. Serum albumin ≥2.5 g/dL\\n 4. Female patients who:\\n 1. are postmenopausal for at least 1 year prior to screening OR\\n 2. are surgically sterile OR\\n 3. If they are of childbearing potential, agree to practice 1 highly effective\\n method of contraception and 1 additional effective barrier method at the same\\n time from study entry through 30 days after last dose of study drug OR\\n 4. agree to practice true abstinence if in line with the preferred, usual lifestyle\\n [periodic abstinence (e.g., calendar, ovulation, symptothermal, postovulation\\n methods), withdrawal, spermicides only, and lactational amenorrhea are not\\n acceptable. Female and male condoms should not be used together]\\n 5. Male patients, even if surgically sterilized (postvasectomy) who:\\n 1. Agree to practice effective barrier contraception during the entire study and\\n through 90 days after the last dose of study drug OR\\n 2. Agree to practice true abstinence if in line with the preferred and usual\\n lifestyle [periodic abstinence (e.g., calendar, ovulation, symptothermal,\\n postovulation methods), withdrawal, spermicides only, and lactational amenorrhea\\n are not acceptable. Female and male condoms should not be used together]\\n Inclusion Criteria Part 2 for RRNHL patients\\n 6. Pathologically confirmed diagnosis of the following NHL subtype based on local\\n pathology report:\\n 1. Mantle cell lymphoma (MCL) i. Nodal MCL\\n 2. Diffuse large B-cell lymphoma (DLBCL) i. DLBCL-NOS ii. Plasmablastic lymphoma\\n (PbL) iii. Primary effusion lymphoma (PEL). iv. Primary effusion lymphoma (PMBL)\\n 3. Follicular lymphoma\\n 4. Burkitt lymphoma (BL)\\n 5. Peripheral T-cell lymphoma (PTCL) i. PTCL-NOS (eligible at MTD/RPTD if biopsy\\n evidence of CD38 positivity) ii. Angioimmunoblastic T-cell lymphoma (AITL)\\n 6. Extranodal NK/T-cell lymphoma (ENKTL)-nasal type\\n 7. RRNHL, having failed treatment with, is intolerant to, or is determined not to be a\\n candidate for available therapies considered standard of care (SOC) or are known to\\n confer clinical benefit.\\n 8. At least 1 measurable site of disease according to the Lugano classification for\\n lymphoma.\\n 1. A measurable nodal lesion with longest diameter (LDi) greater than 1.5cm OR\\n 2. A measurable extranodal lesion with LDi greater than 1.0cm\\n 9. Evidence of a CD38 positive tumor. Any of the following are acceptable:\\n 1. Evidence of CD38 expression from most recent biopsy or blood sample [either flow\\n cytometry (FCM) or immunohistochemistry (IHC)] OR\\n 2. The most recently archived tissue assessed for CD38 expression by IHC OR\\n 3. Fresh biopsy for CD38 expression assessment by IHC within 35 days of Cycle 1 Day\\n 1 OR\\n 4. Fresh blood sample with circulating NHL cells assessed by FCM within 35 days of\\n Cycle 1 Day 1 (BM biopsy excisional lymph node biopsy, core biopsy of any\\n involved organ are all acceptable methods, find needle aspirate is not. Any level\\n of positive CD38 expression is eligible). Fine needle aspirate may be accepted on\\n a case-by-case basis after discussion with the medical monitor of the sponsor.\\n Inclusion Criteria Part 2 for RRMM patients\\n 1. Confirmed diagnosis of MM per IMWG diagnosis criteria:\\n 2. RRMM, having failed treatment with, is intolerant to, or is determined not to be a\\n candidate for available therapies considered SOC or are known to confer clinical\\n benefit.\\n 3. Must meet the following criteria for prior therapy:\\n 1. Refractory or intolerant to ≥1 PI and ≥1 IMiD\\n 2. Receipt of ≥3 prior lines of therapy or ≥2 prior lines of therapy if 1 of those\\n lines included a combination of a PI or IMiD (prior treatment with anti-CD38\\n therapy is permitted except for patients enrolled in the anti-CD38 therapy naïve\\n cohort)\\n 3. Daratumumab RR cohorts: RR to daratumumab at any time during treatment. Patients\\n RR to other anti-CD38 therapies are excluded.\\n 4. Anti-CD38 therapy naïve cohort: must not have received any prior anti CD-38\\n therapy.\\n 4. Measurable disease, defined as ≥1 of the following\\n 1. Serum M-protein ≥50 mg/dL (≥5 g/L) on SPEP.\\n 2. Urine M-protein ≥200 mg/24 hours on UPEP.\\n 3. Serum FLC assay result with and involved FLC level ≥10 mg/dL (≥100mg/L), provided\\n the serum FLC ratio is abnormal.\\n 5. Serum M-protein, urine M-protein or involved immunoglobulin FLC not meeting measurable\\n disease criteria if at least 1 of the following criteria is met:\\n 1. BM aspirate/biopsy showing plasma cell percentage ≥30%\\n 2. PET imaging showing at least 1 plasmacytoma lesion with a single diameter ≥2 cm.\\n Exclusion Criteria for Part 1 (RRMM patients only):\\n 1. With polyneuropathy, organomegaly, endocrinopathy, monoclonal gammopathy and skin\\n changes (POEMS) syndrome, monoclonal gammopathy of unknown significance, smoldering\\n myeloma, solitary plasmacytoma, amyloidosis, Waldenström macroglobulinemia, or\\n Immunoglobulin M (IgM) myeloma.\\n 2. With sensory or motor neuropathy of NCI CTCAE V5 Grade ≥3.\\n 3. Have received final dose of any of the following treatments/procedures within the\\n following interval before the first dose of MT-0169:\\n - Myeloma-specific therapy, including PIs and IMiDs: 14 days\\n - Anti-CD38 (a) therapy: Isatuximab 90 days; daratumumab 60 days\\n - Corticosteroid therapy for myeloma: 7 days\\n - Radiation therapy for localized bone lesions: 14 days\\n - Major surgery:30 days\\n - Autologous stem cell transplant: 90 days\\n - Investigational therapy: 30 days\\n 4. Have received an allogeneic stem cell transplant or organ transplantation.\\n 5. Have not recovered to Grade ≤1 or baseline, from adverse reactions to prior myeloma\\n treatment or procedures (chemotherapy, immunotherapy, radiation therapy) excluding\\n alopecia and Grade 2 neuropathy.\\n 6. With clinical signs of central nervous system (CNS) involvement of MM.\\n 7. With a history of myelodysplastic syndrome or another malignancy other than MM except\\n for the following: any malignancy in complete remission for 3 years, adequately\\n treated local basal cell or squamous cell carcinoma of the skin, cervical carcinoma in\\n situ, superficial bladder cancer, or asymptomatic prostate cancer without known\\n metastatic disease and not requiring therapy or requiring only hormonal therapy and\\n with normal prostate-specific antigen level for ≥1 year before the start of study\\n therapy.\\n 8. With known or suspected light chain amyloidosis of any organ (amyloid on the BM biopsy\\n without other evidence of amyloidosis is acceptable).\\n 9. With any of the following cardiovascular conditions:\\n 1. Congestive heart failure (NYHA) class ≥II or left ventricular ejection fraction\\n (LVEF <40%, cardiac myopathy, active ischemia, or any other uncontrolled cardiac\\n condition or myocardial infarction or clinically significant arrhythmia requiring\\n therapy including anticoagulants within the past 6 months or at screening\\n 2. Resting tachycardia (heart rate of > 100 bpm) at screening\\n 3. Clinically significant uncontrolled hypertension at screening\\n 4. Cardiac MRI at screening demonstrates evidence of infiltrative disease of the\\n myocardium\\n 10. With a history of document significant pleural or pericardial effusions within 3\\n months before the start of treatment, including:\\n 1. Pericarditis (any Grade)\\n 2. Pericardial effusion (Grade ≥2)\\n 3. Non-malignant pleural effusion (Grade ≥2)\\n 4. Malignant pleural effusion (Grade ≥2)\\n 11. Patients with a history of noncardiogenic pulmonary edema associated with diffuse\\n peripheral edema and history of intravascular hypovolemia associated with systemic\\n antineoplastic therapy.\\n 12. With chronic or active infection requiring systemic therapy, history of symptomatic\\n viral infection that has not been fully cured.\\n 1. With HIV and an undetectable viral load and CD4+ T-cell (CD4+) counts ≥350\\n cells/mL may be allowed but patient must be taking appropriate opportunistic\\n infection prophylaxis if clinically relevant\\n 2. With positive HBV serology may be allowed if undetectable viral load, receiving\\n antiviral prophylaxis for potential HBV reactivation per institutional guidelines\\n 3. With positive HCV serology may be allowed if quantitative PCR for plasma HCV RNA\\n is below the lower limit of detection. Concurrent antiviral HCV treatment per\\n institutional guidelines is allowed.\\n 13. Have received a live attenuated vaccine within 28 days of first dose of MT-0169.\\n 14. With a history of ≥ Grade 2 systemic inflammatory response syndrome (SIRS)/ cytokine\\n release syndrome (CRS) reactions following infusion with any monoclonal antibodies or\\n Chimeric Antigen Receptor (CAR) T therapy\\n 15. With a chronic condition requiring systemic corticosteroids at >10 mg/day of\\n prednisone or equivalent.\\n 16. Are lactating and breastfeeding or have a positive serum pregnancy test during the\\n screening period or patients of reproductive potential who are not employing an\\n effective birth control\\n 17. With a concurrent medical or psychiatric illness that would preclude study conduct and\\n assessment including, but not limited to, uncontrolled medical conditions, active\\n infection, risk of bleeding, diabetes mellitus, pulmonary disease, alcoholic liver\\n disease, or primary biliary cirrhosis.\\n 18. With known allergy or intolerance to any of the drugs used in the study or excipients\\n in MT-0169\\n 19. With a history of hypersensitivity or serious toxic reaction to kanamycin or another\\n aminoglycoside.\\n Exclusion Criteria for Part 2 NHL patients only:\\n 1. With known CNS lymphoma (exception if history of CNS disease and evidence of SD on\\n neuroimaging separated by at least 4 weeks and within 4 weeks of Cycle 1 Day 1)\\n 2. Have received a final dose of any of the following treatments/procedures within the\\n following minimum interval before the first dose of MT-0169:\\n - Nitrosoureas: 6 weeks\\n - Chemotherapy: 4 weeks\\n - Small molecules (<0.9 kDa): 5 half-lives or at least 2 weeks\\n - Therapeutic antibodies: 4 weeks\\n - Radio/toxin -immunoconjugates: 12 weeks\\n - Radiation therapy - target lesion (measurable disease): 4 weeks\\n - Radiation therapy - nontarget lesion: 2 weeks\\n - Investigational chemotherapeutic agents or antibodies: 4 weeks\\n - Daratumumab: 60 days\\n - Isatuximab: 90 days\\n - (MCL) Bruton's tyrosine kinase inhibitors: 2 weeks or 5 half-lives, whichever is\\n longer\\n - Major surgery (determined by the principal investigator and Sponsor): 4 weeks\\n - Autologous stem cell transplant: 100 days\\n - Allogenic stem cell transplant: 180 days (patients with graft vs host disease >\\n Grade 1 will be excluded)\\n 3. With a history of myelodysplastic syndrome or malignancy (other than NHL) except for\\n the following: any malignancy in complete remission for 3 years, adequately treated\\n local basal cell or squamous cell carcinoma of the skin, cervical carcinoma in situ,\\n superficial bladder cancer, or asymptomatic prostate cancer without known metastatic\\n disease and not requiring therapy or requiring only hormonal therapy and with normal\\n prostate-specific antigen level for ≥1 year before the start of study therapy\\n Exclusion Criteria for Part 2 RRMM patients only:\\n 4. With POEMS syndrome, monoclonal gammopathy of unknown significance, smoldering\\n myeloma, solitary plasmacytoma, amyloidosis, Waldenström macroglobulinemia, IgM\\n myeloma.\\n 5. Have received a final dose of any of the following treatments/procedures within the\\n following interval before the first dose of MT-0169:\\n - Myeloma-specific therapy, including PIs and IMiDs: 14 days\\n - Anti-CD38 therapy - Isatuximab: 90 days\\n - Anti-CD38 therapy - Daratumumab: 60 days\\n - Corticosteroid therapy for myeloma: 7 days\\n - Radiation therapy for localized bone lesions: 14 days\\n - Major surgery: 30 days\\n - Autologous stem cell transplant: 90 days\\n - Investigational therapy: 30 days\\n 6. Have received an allogenic stem cell or organ transplant.\\n 7. With clinical signs of CNS involvement of MM.\\n 8. With a history of myelodysplastic syndrome or another malignancy other than MM except\\n or any malignancy in complete remission for 3 years, adequately treated local basal\\n cell or squamous cell carcinoma of the skin, cervical carcinoma in situ, superficial\\n bladder cancer, or asymptomatic prostate cancer without known metastatic disease and\\n not requiring therapy or requiring only hormonal therapy and with normal\\n prostate-specific antigen level for >1 year before the start of study therapy.\\n 9. With known or suspected light chain amyloidosis of any organ (amyloid on BM biopsy\\n without other evidence of amyloidosis is acceptable).\\n Exclusion Criteria for Part 2 (both RRMM and NHL patients):\\n 10. Failed to recover to Grade ≤1 or baseline from adverse reactions to prior treatment or\\n procedures (chemotherapy, immunotherapy, radiation therapy) excluding alopecia and\\n stable Grade 2 neuropathy.\\n 11. With any of the following cardiovascular conditions:\\n 1. Congestive heart failure (NYHA) class ≥II LVEF <40%, cardiac myopathy, active\\n ischemia, or any other uncontrolled cardiac condition such as angina pectoris or\\n myocardial infarction or clinically significant arrhythmia requiring therapy\\n including anticoagulants within the past 6 months or at screening\\n 2. Resting tachycardia (heart rate of >100 bpm) at screening\\n 3. Clinically significant uncontrolled hypertension at screening\\n 4. Cardiac MRI at screening demonstrating infiltrative disease of the myocardium\\n 12. With a history of documented significant pleural or pericardial effusions,\\n specifically any of the following within 3 months before the start of study treatment:\\n 1. Pericarditis (any grade)\\n 2. Pericardial effusion (Grade ≥2)\\n 3. Non-malignant pleural effusion (Grade ≥2) OR\\n 4. Malignant pleural effusion (Grade ≥3)\\n 13. With a history of noncardiogenic pulmonary edema associated with peripheral edema and\\n a history of intravascular hypovolemia associated with antineoplastic therapy.\\n 14. With chronic or active infection requiring systemic therapy and a history of\\n symptomatic viral infection that is not fully controlled or cured. The following\\n exceptions apply for those with positive serologies of HIV, HBV, or HCV:\\n 1. With HIV and undetectable viral load and CD4+ T-cell (CD4+) counts ≥350 cells/mL\\n may be enrolled, but must be taking appropriate opportunistic infection\\n prophylaxis, if clinically relevant.\\n 2. With positive HBV serology are eligible if they have an undetectable viral load\\n and the patient will receive antiviral prophylaxis for potential HBV reactivation\\n per institutional guidelines.\\n 3. With positive HCV serology are eligible if qPCR for plasma HCV RNA is below the\\n lower limit of detection. Concurrent antiviral HCV treatment per institutional\\n guidelines is allowed.\\n 15. Have received a live attenuated vaccine within 28 days of the first dose of MT-0169\\n 16. With a history of Grade ≥2 SIRS/CRS reactions following infusion with any mAbs or CAR\\n T therapy.\\n 17. With a chronic condition requiring systemic corticosteroids ≥10 mg/day of prednisone\\n or equivalent.\\n 18. With a known allergy or intolerance to any of the drugs in the study or excipients in\\n the MT-0169 formulation.\\n 19. Are lactating and breastfeeding or have a positive serum pregnancy test during the\\n screening period or male or female patients of reproductive potential who are not\\n employing effective birth control.\\n 20. With a concurrent medical or psychiatric illness that would preclude study conduct and\\n assessment including, but not limited to, uncontrolled medical conditions,\\n uncontrolled and active infection, uncontrolled risk of bleeding, uncontrolled\\n diabetes mellitus, pulmonary disease, alcoholic liver disease, or primary biliary\\n cirrhosis.\\n 21. With a history of hypersensitivity or serious toxic reactions to kanamycin or another\\n aminoglycoside\"]"
      ]
     },
     "execution_count": 18,
     "metadata": {},
     "output_type": "execute_result"
    }
   ],
   "source": [
    "short_docs"
   ]
  },
  {
   "cell_type": "markdown",
   "id": "36949106-6c3e-42af-b3c1-f367552665b7",
   "metadata": {},
   "source": [
    "## Visualize Embeddings"
   ]
  },
  {
   "cell_type": "code",
   "execution_count": 12,
   "id": "de681d1b-e2c9-4eb1-9a3c-92af8374716a",
   "metadata": {
    "scrolled": true
   },
   "outputs": [],
   "source": [
    "from umap import UMAP\n",
    "import plotly.express as px\n",
    "import plotly.io as pio\n",
    "pio.renderers.default = 'notebook'"
   ]
  },
  {
   "cell_type": "code",
   "execution_count": 13,
   "id": "5bfad6a3-cedb-41aa-9ce3-f4095d679c09",
   "metadata": {},
   "outputs": [],
   "source": [
    "# Load embeddings\n",
    "dataset_embs = np.array(dataset_data['embeddings'])"
   ]
  },
  {
   "cell_type": "code",
   "execution_count": 34,
   "id": "dd8490ec-f86d-4e4d-885f-ee86cdad4675",
   "metadata": {},
   "outputs": [],
   "source": [
    "# Reduce dimensionality of embeddings\n",
    "umap_fit = UMAP(n_neighbors=10, n_components=2, min_dist=0.1, metric='cosine').fit(dataset_embs)\n",
    "projections = umap_fit.transform(dataset_embs)"
   ]
  },
  {
   "cell_type": "code",
   "execution_count": 35,
   "id": "ddabf12f-ae20-4b60-ba10-1340f2ada883",
   "metadata": {},
   "outputs": [],
   "source": [
    "import pylab as plt"
   ]
  },
  {
   "cell_type": "code",
   "execution_count": 36,
   "id": "80203cb2-d7d9-4629-a48a-4e9bb0db29ed",
   "metadata": {},
   "outputs": [
    {
     "data": {
      "image/png": "[encoded data removed]",
      "text/plain": [
       "<Figure size 432x288 with 1 Axes>"
      ]
     },
     "metadata": {
      "needs_background": "light"
     },
     "output_type": "display_data"
    }
   ],
   "source": [
    "plt.scatter(projections[:, 0],projections[:, 1],color='steelblue')\n",
    "plt.savefig(\"images/umap_10neig_2cmp.jpeg\")\n",
    "#plt.scatter(X,Y2,color='g')\n",
    "plt.show()"
   ]
  },
  {
   "cell_type": "code",
   "execution_count": 39,
   "id": "9fd9ec76-b95a-4774-a66a-04825c1a4bc4",
   "metadata": {},
   "outputs": [],
   "source": [
    "# train/test"
   ]
  },
  {
   "cell_type": "code",
   "execution_count": 53,
   "id": "179e451a-4fd8-4f9a-b985-acbdcb467214",
   "metadata": {},
   "outputs": [],
   "source": [
    "train_set = load_json(\"data/processed/train_set.json\")\n",
    "# Selecting the ids only\n",
    "train_ids = [i['trial_id'] for i in train_set['ids']]\n",
    "# Get the documents for the dataset ids\n",
    "train_data = trials.get(ids=train_ids, include = ['documents', 'embeddings'])\n",
    "train_embeddings = train_data['embeddings']"
   ]
  },
  {
   "cell_type": "code",
   "execution_count": 56,
   "id": "4c71e647-fe7b-44a6-b405-347c0ff72479",
   "metadata": {},
   "outputs": [],
   "source": [
    "test_set = load_json(\"data/processed/test_set.json\")\n",
    "# Selecting the ids only\n",
    "test_ids = [i['trial_id'] for i in test_set['ids']]\n",
    "# Get the documents for the dataset ids\n",
    "test_data = trials.get(ids=test_ids, include = ['documents', 'embeddings'])\n",
    "test_embeddings = test_data['embeddings']"
   ]
  },
  {
   "cell_type": "code",
   "execution_count": 58,
   "id": "e75bc833-15a4-41b8-9749-76484e9a6490",
   "metadata": {},
   "outputs": [],
   "source": [
    "train_em = umap_fit.transform(train_embeddings)\n",
    "test_em = umap_fit.transform(test_embeddings)"
   ]
  },
  {
   "cell_type": "code",
   "execution_count": 60,
   "id": "6eddccbc-a579-43cd-b537-88427f6ef0ce",
   "metadata": {},
   "outputs": [
    {
     "data": {
      "image/png": "[encoded data removed]",
      "text/plain": [
       "<Figure size 432x288 with 1 Axes>"
      ]
     },
     "metadata": {
      "needs_background": "light"
     },
     "output_type": "display_data"
    }
   ],
   "source": [
    "plt.scatter(train_em[:, 0],train_em[:, 1],color='steelblue')\n",
    "plt.scatter(test_em[:, 0],test_em[:, 1],color='green')\n",
    "plt.savefig(\"images/umap_10neig_2cmp_train_test.jpeg\")"
   ]
  },
  {
   "cell_type": "code",
   "execution_count": null,
   "id": "6ce056a7-c73e-4a19-b257-8911c7f79e43",
   "metadata": {},
   "outputs": [],
   "source": []
  }
 ],
 "metadata": {
  "kernelspec": {
   "display_name": "Python 3",
   "language": "python",
   "name": "python3"
  },
  "language_info": {
   "codemirror_mode": {
    "name": "ipython",
    "version": 3
   },
   "file_extension": ".py",
   "mimetype": "text/x-python",
   "name": "python",
   "nbconvert_exporter": "python",
   "pygments_lexer": "ipython3",
   "version": "3.11.6"
  }
 },
 "nbformat": 4,
 "nbformat_minor": 5
}
